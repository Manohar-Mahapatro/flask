{
 "cells": [
  {
   "cell_type": "markdown",
   "metadata": {},
   "source": [
    "### 1. What is the name of the feature responsible for generating Regex objects? "
   ]
  },
  {
   "cell_type": "markdown",
   "metadata": {},
   "source": [
    "re.compile() is the feature responsible for generating Regex objects"
   ]
  },
  {
   "cell_type": "markdown",
   "metadata": {},
   "source": [
    "### 2. Why do raw strings often appear in Regex objects? "
   ]
  },
  {
   "cell_type": "markdown",
   "metadata": {},
   "source": [
    "Raw strings are used so that backslashes do not have to be escaped."
   ]
  },
  {
   "cell_type": "markdown",
   "metadata": {},
   "source": [
    "### 3. What is the return value of the search() method? "
   ]
  },
  {
   "cell_type": "markdown",
   "metadata": {},
   "source": [
    "search() method will return the index position of the first occurrence."
   ]
  },
  {
   "cell_type": "markdown",
   "metadata": {},
   "source": [
    "### 4. From a Match item, how do you get the actual strings that match the pattern? "
   ]
  },
  {
   "cell_type": "markdown",
   "metadata": {},
   "source": [
    "group() method can be used to get the actual strings that match the pattern."
   ]
  },
  {
   "cell_type": "markdown",
   "metadata": {},
   "source": [
    "### 5. In the regex which created from the r'(\\d\\d\\d)-(\\d\\d\\d-\\d\\d\\d\\d)', what does group zero cover? Group 2? Group 1? "
   ]
  },
  {
   "cell_type": "markdown",
   "metadata": {},
   "source": [
    "Group(0) - entire match                                                                                         \n",
    "Group(1) - first set of parentheses                                                             \n",
    "Group(2) - second set of parentheses"
   ]
  },
  {
   "cell_type": "markdown",
   "metadata": {},
   "source": [
    "### 6. In standard expression syntax, parentheses and intervals have distinct meanings. How can you tell a regex that you want it to fit real parentheses and periods? "
   ]
  },
  {
   "cell_type": "markdown",
   "metadata": {},
   "source": [
    "In standard expression syntax, parentheses and periods can be escaped with a backslash: ``\\``., ``\\``(, and ``\\``)."
   ]
  },
  {
   "cell_type": "markdown",
   "metadata": {},
   "source": [
    "### 7. The findall() method returns a string list or a list of string tuples. What causes it to return one of the two options?"
   ]
  },
  {
   "cell_type": "markdown",
   "metadata": {},
   "source": [
    "A list of strings is returned if the regex has no groups and if the regex has groups, a list of tuples of strings is returned."
   ]
  },
  {
   "cell_type": "markdown",
   "metadata": {},
   "source": [
    "### 8. In standard expressions, what does the | character mean? "
   ]
  },
  {
   "cell_type": "markdown",
   "metadata": {},
   "source": [
    " In standard expressions, | character - means either, or."
   ]
  },
  {
   "cell_type": "markdown",
   "metadata": {},
   "source": [
    "### 9. In regular expressions, what does the character stand for? "
   ]
  },
  {
   "cell_type": "markdown",
   "metadata": {},
   "source": [
    "Question is not clear."
   ]
  },
  {
   "cell_type": "markdown",
   "metadata": {},
   "source": [
    "### 10.In regular expressions, what is the difference between the + and * characters? "
   ]
  },
  {
   "cell_type": "markdown",
   "metadata": {},
   "source": [
    " '+' - matches one or more.                                                                \n",
    " ' * ' -  matches zero or more."
   ]
  },
  {
   "cell_type": "markdown",
   "metadata": {},
   "source": [
    "### 11. What is the difference between {4} and {4,5} in regular expression? "
   ]
  },
  {
   "cell_type": "markdown",
   "metadata": {},
   "source": [
    "The {4}  - matches exactly four instances of the preceding group.                                                        \n",
    "The {4,5} - matches between four and five instances."
   ]
  },
  {
   "cell_type": "markdown",
   "metadata": {},
   "source": [
    "### 12. What do you mean by the \\d, \\w, and \\s shorthand character classes signify in regular expressions? "
   ]
  },
  {
   "cell_type": "markdown",
   "metadata": {},
   "source": [
    "\\d - for digits [0-9].                                 \n",
    "\\w - for any alphanumeric characters i.e. [a-zA-Z0-9].                                     \n",
    "\\s - for any Whitespace character (\\t, \\n ,\\r).                "
   ]
  },
  {
   "cell_type": "markdown",
   "metadata": {},
   "source": [
    "### 13. What do means by \\D, \\W, and \\S shorthand character classes signify in regular expressions? "
   ]
  },
  {
   "cell_type": "markdown",
   "metadata": {},
   "source": [
    "\\D  - for non-digits.                                                                 \n",
    "\\W - for non-word character.                                                                    \n",
    "\\S - for non-whitespace characters."
   ]
  },
  {
   "cell_type": "markdown",
   "metadata": {},
   "source": [
    "### 14. What is the difference between .*? and .*?"
   ]
  },
  {
   "cell_type": "markdown",
   "metadata": {},
   "source": [
    "  .* - This is greedy regex that tries to match a string as big as possible.\n",
    "    \n",
    " .*? - This is non-greedy regex that tries to match a string as small as possible."
   ]
  },
  {
   "cell_type": "markdown",
   "metadata": {},
   "source": [
    "### 15. What is the syntax for matching both numbers and lowercase letters with a character class?"
   ]
  },
  {
   "cell_type": "markdown",
   "metadata": {},
   "source": [
    "The syntax for matching both numbers and lowercase letters with a character class - [a-z0-9] or [0-9a-z]"
   ]
  },
  {
   "cell_type": "markdown",
   "metadata": {},
   "source": [
    "### 16. What is the procedure for making a normal expression in regax case insensitive? "
   ]
  },
  {
   "cell_type": "markdown",
   "metadata": {},
   "source": [
    "The procedure for making a normal expression in regax case insensitive is passing re.IGNORECASE or re.I as a second argument to re.compile()."
   ]
  },
  {
   "cell_type": "markdown",
   "metadata": {},
   "source": [
    "### 17. What does the . character normally match? What does it match if re.DOTALL is passed as 2nd argument in re.compile()? "
   ]
  },
  {
   "cell_type": "markdown",
   "metadata": {},
   "source": [
    " .(dot) - called the \"WildCard\" and will match any character except for new line.                             \n",
    "re.DOTALL - When we pass re.DOTALL as a second argument to re.compile() then it will matches everything including the new lines."
   ]
  },
  {
   "cell_type": "markdown",
   "metadata": {},
   "source": [
    "### 18. If numReg = re.compile(r'\\d+'), what will numRegex.sub('X', '11 drummers, 10 pipers, five rings, 4 hen') return?"
   ]
  },
  {
   "cell_type": "code",
   "execution_count": 7,
   "metadata": {},
   "outputs": [
    {
     "data": {
      "text/plain": [
       "'X drummers, X pipers, five rings, X hen'"
      ]
     },
     "execution_count": 7,
     "metadata": {},
     "output_type": "execute_result"
    }
   ],
   "source": [
    "import re\n",
    "numRegex = re.compile(r'\\d+')\n",
    "numRegex.sub('X', '11 drummers, 10 pipers, five rings, 4 hen') "
   ]
  },
  {
   "cell_type": "markdown",
   "metadata": {},
   "source": [
    "It will return 'X drummers, X pipers, five rings, X hen'."
   ]
  },
  {
   "cell_type": "markdown",
   "metadata": {},
   "source": [
    "### 19. What does passing re.VERBOSE as the 2nd argument to re.compile() allow to do? "
   ]
  },
  {
   "cell_type": "markdown",
   "metadata": {},
   "source": [
    "The re.VERBOSE argument allows to add whitespace and comments to the string passed to re.compile()."
   ]
  },
  {
   "cell_type": "markdown",
   "metadata": {},
   "source": [
    "### 20. How would you write a regex that match a number with comma for every three digits? "
   ]
  },
  {
   "cell_type": "markdown",
   "metadata": {},
   "source": [
    "It must match the given following:                                                        \n",
    "'42'                                                                         \n",
    "'1,234'                                                                                                      \n",
    "'6,368,745'                                                                                                                                                                                      \n",
    "but not the following:                                                                                   \n",
    "'12,34,567' (which has only two digits between the commas)                                                  \n",
    "'1234' (which lacks commas)\n"
   ]
  },
  {
   "cell_type": "markdown",
   "metadata": {},
   "source": [
    "Answer: re.compile(r'^\\d{1,3}(,\\d{3})*$')"
   ]
  },
  {
   "cell_type": "markdown",
   "metadata": {},
   "source": [
    "### 21. How would you write a regex that matches the full name of someone whose last name is Watanabe? You can assume that the first name that comes before it will always be one word that begins with a capital letter. The regex must match the following:\n",
    "\n"
   ]
  },
  {
   "cell_type": "markdown",
   "metadata": {},
   "source": [
    "'Haruto Watanabe'                                                        \n",
    "'Alice Watanabe'                                                                    \n",
    "'RoboCop Watanabe'  \n",
    "                                            \n",
    "but not the following:                                                                       \n",
    "'haruto Watanabe' (where the first name is not capitalized)                                                     \n",
    "'Mr. Watanabe' (where the preceding word has a nonletter character)                                                \n",
    "'Watanabe' (which has no first name)                                          \n",
    "'Haruto watanabe' (where Watanabe is not capitalized)                        "
   ]
  },
  {
   "cell_type": "markdown",
   "metadata": {},
   "source": [
    "Answer: pattern = re.compile(r'^\\[A-Z]{1}[a-z]*\\sWatanabe')"
   ]
  },
  {
   "cell_type": "markdown",
   "metadata": {},
   "source": [
    "### 22. How would you write a regex that matches a sentence where the first word is either Alice, Bob, or Carol; the second word is either eats, pets, or throws; the third word is apples, cats, or baseballs; and the sentence ends with a period? This regex should be case-insensitive.\n",
    "\n"
   ]
  },
  {
   "cell_type": "markdown",
   "metadata": {},
   "source": [
    " It must match the following:                     \n",
    "'Alice eats apples.'                                                                                  \n",
    "'Bob pets cats.'                                                                                           \n",
    "'Carol throws baseballs.'                                                                                         \n",
    "'Alice throws Apples.'                                                             \n",
    "'BOB EATS CATS.'  \n",
    "                                                                                                                 \n",
    "but not the following:                                                             \n",
    "'RoboCop eats apples.'                                                  \n",
    "'ALICE THROWS FOOTBALLS.'                                      \n",
    "'Carol eats 7 cats.'     "
   ]
  },
  {
   "cell_type": "code",
   "execution_count": 21,
   "metadata": {},
   "outputs": [],
   "source": [
    "test=re.compile(r\"(Alice|Bob|Carol)\\s(eats|pets|throws)\\s(apples|cats|baseballs)\\.\", re.IGNORECASE)"
   ]
  },
  {
   "cell_type": "code",
   "execution_count": 23,
   "metadata": {},
   "outputs": [
    {
     "data": {
      "text/plain": [
       "[('Alice', 'eats', 'apples')]"
      ]
     },
     "execution_count": 23,
     "metadata": {},
     "output_type": "execute_result"
    }
   ],
   "source": [
    "a  =test.findall(\"Alice eats apples.\")\n",
    "a"
   ]
  },
  {
   "cell_type": "code",
   "execution_count": 24,
   "metadata": {},
   "outputs": [
    {
     "data": {
      "text/plain": [
       "[]"
      ]
     },
     "execution_count": 24,
     "metadata": {},
     "output_type": "execute_result"
    }
   ],
   "source": [
    "b  =test.findall('RoboCop eats apples.')\n",
    "b"
   ]
  },
  {
   "cell_type": "code",
   "execution_count": null,
   "metadata": {},
   "outputs": [],
   "source": []
  }
 ],
 "metadata": {
  "kernelspec": {
   "display_name": "Python 3",
   "language": "python",
   "name": "python3"
  },
  "language_info": {
   "codemirror_mode": {
    "name": "ipython",
    "version": 3
   },
   "file_extension": ".py",
   "mimetype": "text/x-python",
   "name": "python",
   "nbconvert_exporter": "python",
   "pygments_lexer": "ipython3",
   "version": "3.8.5"
  }
 },
 "nbformat": 4,
 "nbformat_minor": 4
}
